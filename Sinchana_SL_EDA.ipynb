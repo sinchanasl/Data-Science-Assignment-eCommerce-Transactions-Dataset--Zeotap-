{
 "cells": [
  {
   "cell_type": "markdown",
   "id": "afc403a6",
   "metadata": {},
   "source": [
    "# Assignment - Exploratory Data Analysis and Business Insights"
   ]
  },
  {
   "cell_type": "code",
   "execution_count": 1,
   "id": "32bd0d11",
   "metadata": {},
   "outputs": [],
   "source": [
    "import pandas as pd\n",
    "import numpy as np\n",
    "import seaborn as sns"
   ]
  },
  {
   "cell_type": "code",
   "execution_count": 17,
   "id": "75201223",
   "metadata": {},
   "outputs": [
    {
     "data": {
      "text/html": [
       "<div>\n",
       "<style scoped>\n",
       "    .dataframe tbody tr th:only-of-type {\n",
       "        vertical-align: middle;\n",
       "    }\n",
       "\n",
       "    .dataframe tbody tr th {\n",
       "        vertical-align: top;\n",
       "    }\n",
       "\n",
       "    .dataframe thead th {\n",
       "        text-align: right;\n",
       "    }\n",
       "</style>\n",
       "<table border=\"1\" class=\"dataframe\">\n",
       "  <thead>\n",
       "    <tr style=\"text-align: right;\">\n",
       "      <th></th>\n",
       "      <th>TransactionID</th>\n",
       "      <th>CustomerID</th>\n",
       "      <th>ProductID</th>\n",
       "      <th>TransactionDate</th>\n",
       "      <th>Quantity</th>\n",
       "      <th>TotalValue</th>\n",
       "      <th>Price</th>\n",
       "    </tr>\n",
       "  </thead>\n",
       "  <tbody>\n",
       "    <tr>\n",
       "      <th>0</th>\n",
       "      <td>T00001</td>\n",
       "      <td>C0199</td>\n",
       "      <td>P067</td>\n",
       "      <td>2024-08-25 12:38:23</td>\n",
       "      <td>1</td>\n",
       "      <td>300.68</td>\n",
       "      <td>300.68</td>\n",
       "    </tr>\n",
       "    <tr>\n",
       "      <th>1</th>\n",
       "      <td>T00112</td>\n",
       "      <td>C0146</td>\n",
       "      <td>P067</td>\n",
       "      <td>2024-05-27 22:23:54</td>\n",
       "      <td>1</td>\n",
       "      <td>300.68</td>\n",
       "      <td>300.68</td>\n",
       "    </tr>\n",
       "    <tr>\n",
       "      <th>2</th>\n",
       "      <td>T00166</td>\n",
       "      <td>C0127</td>\n",
       "      <td>P067</td>\n",
       "      <td>2024-04-25 07:38:55</td>\n",
       "      <td>1</td>\n",
       "      <td>300.68</td>\n",
       "      <td>300.68</td>\n",
       "    </tr>\n",
       "    <tr>\n",
       "      <th>3</th>\n",
       "      <td>T00272</td>\n",
       "      <td>C0087</td>\n",
       "      <td>P067</td>\n",
       "      <td>2024-03-26 22:55:37</td>\n",
       "      <td>2</td>\n",
       "      <td>601.36</td>\n",
       "      <td>300.68</td>\n",
       "    </tr>\n",
       "    <tr>\n",
       "      <th>4</th>\n",
       "      <td>T00363</td>\n",
       "      <td>C0070</td>\n",
       "      <td>P067</td>\n",
       "      <td>2024-03-21 15:10:10</td>\n",
       "      <td>3</td>\n",
       "      <td>902.04</td>\n",
       "      <td>300.68</td>\n",
       "    </tr>\n",
       "    <tr>\n",
       "      <th>...</th>\n",
       "      <td>...</td>\n",
       "      <td>...</td>\n",
       "      <td>...</td>\n",
       "      <td>...</td>\n",
       "      <td>...</td>\n",
       "      <td>...</td>\n",
       "      <td>...</td>\n",
       "    </tr>\n",
       "    <tr>\n",
       "      <th>995</th>\n",
       "      <td>T00496</td>\n",
       "      <td>C0118</td>\n",
       "      <td>P037</td>\n",
       "      <td>2024-10-24 08:30:27</td>\n",
       "      <td>1</td>\n",
       "      <td>459.86</td>\n",
       "      <td>459.86</td>\n",
       "    </tr>\n",
       "    <tr>\n",
       "      <th>996</th>\n",
       "      <td>T00759</td>\n",
       "      <td>C0059</td>\n",
       "      <td>P037</td>\n",
       "      <td>2024-06-04 02:15:24</td>\n",
       "      <td>3</td>\n",
       "      <td>1379.58</td>\n",
       "      <td>459.86</td>\n",
       "    </tr>\n",
       "    <tr>\n",
       "      <th>997</th>\n",
       "      <td>T00922</td>\n",
       "      <td>C0018</td>\n",
       "      <td>P037</td>\n",
       "      <td>2024-04-05 13:05:32</td>\n",
       "      <td>4</td>\n",
       "      <td>1839.44</td>\n",
       "      <td>459.86</td>\n",
       "    </tr>\n",
       "    <tr>\n",
       "      <th>998</th>\n",
       "      <td>T00959</td>\n",
       "      <td>C0115</td>\n",
       "      <td>P037</td>\n",
       "      <td>2024-09-29 10:16:02</td>\n",
       "      <td>2</td>\n",
       "      <td>919.72</td>\n",
       "      <td>459.86</td>\n",
       "    </tr>\n",
       "    <tr>\n",
       "      <th>999</th>\n",
       "      <td>T00992</td>\n",
       "      <td>C0024</td>\n",
       "      <td>P037</td>\n",
       "      <td>2024-04-21 10:52:24</td>\n",
       "      <td>1</td>\n",
       "      <td>459.86</td>\n",
       "      <td>459.86</td>\n",
       "    </tr>\n",
       "  </tbody>\n",
       "</table>\n",
       "<p>1000 rows × 7 columns</p>\n",
       "</div>"
      ],
      "text/plain": [
       "    TransactionID CustomerID ProductID      TransactionDate  Quantity  \\\n",
       "0          T00001      C0199      P067  2024-08-25 12:38:23         1   \n",
       "1          T00112      C0146      P067  2024-05-27 22:23:54         1   \n",
       "2          T00166      C0127      P067  2024-04-25 07:38:55         1   \n",
       "3          T00272      C0087      P067  2024-03-26 22:55:37         2   \n",
       "4          T00363      C0070      P067  2024-03-21 15:10:10         3   \n",
       "..            ...        ...       ...                  ...       ...   \n",
       "995        T00496      C0118      P037  2024-10-24 08:30:27         1   \n",
       "996        T00759      C0059      P037  2024-06-04 02:15:24         3   \n",
       "997        T00922      C0018      P037  2024-04-05 13:05:32         4   \n",
       "998        T00959      C0115      P037  2024-09-29 10:16:02         2   \n",
       "999        T00992      C0024      P037  2024-04-21 10:52:24         1   \n",
       "\n",
       "     TotalValue   Price  \n",
       "0        300.68  300.68  \n",
       "1        300.68  300.68  \n",
       "2        300.68  300.68  \n",
       "3        601.36  300.68  \n",
       "4        902.04  300.68  \n",
       "..          ...     ...  \n",
       "995      459.86  459.86  \n",
       "996     1379.58  459.86  \n",
       "997     1839.44  459.86  \n",
       "998      919.72  459.86  \n",
       "999      459.86  459.86  \n",
       "\n",
       "[1000 rows x 7 columns]"
      ]
     },
     "execution_count": 17,
     "metadata": {},
     "output_type": "execute_result"
    }
   ],
   "source": [
    "data = pd.read_csv('Transactions.csv')\n",
    "data"
   ]
  },
  {
   "cell_type": "markdown",
   "id": "1accb1ac",
   "metadata": {},
   "source": [
    "Data Understanding"
   ]
  },
  {
   "cell_type": "code",
   "execution_count": 18,
   "id": "7453c604",
   "metadata": {
    "scrolled": true
   },
   "outputs": [
    {
     "data": {
      "text/html": [
       "<div>\n",
       "<style scoped>\n",
       "    .dataframe tbody tr th:only-of-type {\n",
       "        vertical-align: middle;\n",
       "    }\n",
       "\n",
       "    .dataframe tbody tr th {\n",
       "        vertical-align: top;\n",
       "    }\n",
       "\n",
       "    .dataframe thead th {\n",
       "        text-align: right;\n",
       "    }\n",
       "</style>\n",
       "<table border=\"1\" class=\"dataframe\">\n",
       "  <thead>\n",
       "    <tr style=\"text-align: right;\">\n",
       "      <th></th>\n",
       "      <th>TransactionID</th>\n",
       "      <th>CustomerID</th>\n",
       "      <th>ProductID</th>\n",
       "      <th>TransactionDate</th>\n",
       "      <th>Quantity</th>\n",
       "      <th>TotalValue</th>\n",
       "      <th>Price</th>\n",
       "    </tr>\n",
       "  </thead>\n",
       "  <tbody>\n",
       "    <tr>\n",
       "      <th>0</th>\n",
       "      <td>T00001</td>\n",
       "      <td>C0199</td>\n",
       "      <td>P067</td>\n",
       "      <td>2024-08-25 12:38:23</td>\n",
       "      <td>1</td>\n",
       "      <td>300.68</td>\n",
       "      <td>300.68</td>\n",
       "    </tr>\n",
       "    <tr>\n",
       "      <th>1</th>\n",
       "      <td>T00112</td>\n",
       "      <td>C0146</td>\n",
       "      <td>P067</td>\n",
       "      <td>2024-05-27 22:23:54</td>\n",
       "      <td>1</td>\n",
       "      <td>300.68</td>\n",
       "      <td>300.68</td>\n",
       "    </tr>\n",
       "    <tr>\n",
       "      <th>2</th>\n",
       "      <td>T00166</td>\n",
       "      <td>C0127</td>\n",
       "      <td>P067</td>\n",
       "      <td>2024-04-25 07:38:55</td>\n",
       "      <td>1</td>\n",
       "      <td>300.68</td>\n",
       "      <td>300.68</td>\n",
       "    </tr>\n",
       "    <tr>\n",
       "      <th>3</th>\n",
       "      <td>T00272</td>\n",
       "      <td>C0087</td>\n",
       "      <td>P067</td>\n",
       "      <td>2024-03-26 22:55:37</td>\n",
       "      <td>2</td>\n",
       "      <td>601.36</td>\n",
       "      <td>300.68</td>\n",
       "    </tr>\n",
       "    <tr>\n",
       "      <th>4</th>\n",
       "      <td>T00363</td>\n",
       "      <td>C0070</td>\n",
       "      <td>P067</td>\n",
       "      <td>2024-03-21 15:10:10</td>\n",
       "      <td>3</td>\n",
       "      <td>902.04</td>\n",
       "      <td>300.68</td>\n",
       "    </tr>\n",
       "  </tbody>\n",
       "</table>\n",
       "</div>"
      ],
      "text/plain": [
       "  TransactionID CustomerID ProductID      TransactionDate  Quantity  \\\n",
       "0        T00001      C0199      P067  2024-08-25 12:38:23         1   \n",
       "1        T00112      C0146      P067  2024-05-27 22:23:54         1   \n",
       "2        T00166      C0127      P067  2024-04-25 07:38:55         1   \n",
       "3        T00272      C0087      P067  2024-03-26 22:55:37         2   \n",
       "4        T00363      C0070      P067  2024-03-21 15:10:10         3   \n",
       "\n",
       "   TotalValue   Price  \n",
       "0      300.68  300.68  \n",
       "1      300.68  300.68  \n",
       "2      300.68  300.68  \n",
       "3      601.36  300.68  \n",
       "4      902.04  300.68  "
      ]
     },
     "execution_count": 18,
     "metadata": {},
     "output_type": "execute_result"
    }
   ],
   "source": [
    "data.head()"
   ]
  },
  {
   "cell_type": "code",
   "execution_count": 19,
   "id": "95243ba5",
   "metadata": {},
   "outputs": [
    {
     "data": {
      "text/html": [
       "<div>\n",
       "<style scoped>\n",
       "    .dataframe tbody tr th:only-of-type {\n",
       "        vertical-align: middle;\n",
       "    }\n",
       "\n",
       "    .dataframe tbody tr th {\n",
       "        vertical-align: top;\n",
       "    }\n",
       "\n",
       "    .dataframe thead th {\n",
       "        text-align: right;\n",
       "    }\n",
       "</style>\n",
       "<table border=\"1\" class=\"dataframe\">\n",
       "  <thead>\n",
       "    <tr style=\"text-align: right;\">\n",
       "      <th></th>\n",
       "      <th>TransactionID</th>\n",
       "      <th>CustomerID</th>\n",
       "      <th>ProductID</th>\n",
       "      <th>TransactionDate</th>\n",
       "      <th>Quantity</th>\n",
       "      <th>TotalValue</th>\n",
       "      <th>Price</th>\n",
       "    </tr>\n",
       "  </thead>\n",
       "  <tbody>\n",
       "    <tr>\n",
       "      <th>995</th>\n",
       "      <td>T00496</td>\n",
       "      <td>C0118</td>\n",
       "      <td>P037</td>\n",
       "      <td>2024-10-24 08:30:27</td>\n",
       "      <td>1</td>\n",
       "      <td>459.86</td>\n",
       "      <td>459.86</td>\n",
       "    </tr>\n",
       "    <tr>\n",
       "      <th>996</th>\n",
       "      <td>T00759</td>\n",
       "      <td>C0059</td>\n",
       "      <td>P037</td>\n",
       "      <td>2024-06-04 02:15:24</td>\n",
       "      <td>3</td>\n",
       "      <td>1379.58</td>\n",
       "      <td>459.86</td>\n",
       "    </tr>\n",
       "    <tr>\n",
       "      <th>997</th>\n",
       "      <td>T00922</td>\n",
       "      <td>C0018</td>\n",
       "      <td>P037</td>\n",
       "      <td>2024-04-05 13:05:32</td>\n",
       "      <td>4</td>\n",
       "      <td>1839.44</td>\n",
       "      <td>459.86</td>\n",
       "    </tr>\n",
       "    <tr>\n",
       "      <th>998</th>\n",
       "      <td>T00959</td>\n",
       "      <td>C0115</td>\n",
       "      <td>P037</td>\n",
       "      <td>2024-09-29 10:16:02</td>\n",
       "      <td>2</td>\n",
       "      <td>919.72</td>\n",
       "      <td>459.86</td>\n",
       "    </tr>\n",
       "    <tr>\n",
       "      <th>999</th>\n",
       "      <td>T00992</td>\n",
       "      <td>C0024</td>\n",
       "      <td>P037</td>\n",
       "      <td>2024-04-21 10:52:24</td>\n",
       "      <td>1</td>\n",
       "      <td>459.86</td>\n",
       "      <td>459.86</td>\n",
       "    </tr>\n",
       "  </tbody>\n",
       "</table>\n",
       "</div>"
      ],
      "text/plain": [
       "    TransactionID CustomerID ProductID      TransactionDate  Quantity  \\\n",
       "995        T00496      C0118      P037  2024-10-24 08:30:27         1   \n",
       "996        T00759      C0059      P037  2024-06-04 02:15:24         3   \n",
       "997        T00922      C0018      P037  2024-04-05 13:05:32         4   \n",
       "998        T00959      C0115      P037  2024-09-29 10:16:02         2   \n",
       "999        T00992      C0024      P037  2024-04-21 10:52:24         1   \n",
       "\n",
       "     TotalValue   Price  \n",
       "995      459.86  459.86  \n",
       "996     1379.58  459.86  \n",
       "997     1839.44  459.86  \n",
       "998      919.72  459.86  \n",
       "999      459.86  459.86  "
      ]
     },
     "execution_count": 19,
     "metadata": {},
     "output_type": "execute_result"
    }
   ],
   "source": [
    "data.tail()"
   ]
  },
  {
   "cell_type": "code",
   "execution_count": 20,
   "id": "cac40e90",
   "metadata": {},
   "outputs": [
    {
     "data": {
      "text/html": [
       "<div>\n",
       "<style scoped>\n",
       "    .dataframe tbody tr th:only-of-type {\n",
       "        vertical-align: middle;\n",
       "    }\n",
       "\n",
       "    .dataframe tbody tr th {\n",
       "        vertical-align: top;\n",
       "    }\n",
       "\n",
       "    .dataframe thead th {\n",
       "        text-align: right;\n",
       "    }\n",
       "</style>\n",
       "<table border=\"1\" class=\"dataframe\">\n",
       "  <thead>\n",
       "    <tr style=\"text-align: right;\">\n",
       "      <th></th>\n",
       "      <th>Quantity</th>\n",
       "      <th>TotalValue</th>\n",
       "      <th>Price</th>\n",
       "    </tr>\n",
       "  </thead>\n",
       "  <tbody>\n",
       "    <tr>\n",
       "      <th>count</th>\n",
       "      <td>1000.000000</td>\n",
       "      <td>1000.000000</td>\n",
       "      <td>1000.00000</td>\n",
       "    </tr>\n",
       "    <tr>\n",
       "      <th>mean</th>\n",
       "      <td>2.537000</td>\n",
       "      <td>689.995560</td>\n",
       "      <td>272.55407</td>\n",
       "    </tr>\n",
       "    <tr>\n",
       "      <th>std</th>\n",
       "      <td>1.117981</td>\n",
       "      <td>493.144478</td>\n",
       "      <td>140.73639</td>\n",
       "    </tr>\n",
       "    <tr>\n",
       "      <th>min</th>\n",
       "      <td>1.000000</td>\n",
       "      <td>16.080000</td>\n",
       "      <td>16.08000</td>\n",
       "    </tr>\n",
       "    <tr>\n",
       "      <th>25%</th>\n",
       "      <td>2.000000</td>\n",
       "      <td>295.295000</td>\n",
       "      <td>147.95000</td>\n",
       "    </tr>\n",
       "    <tr>\n",
       "      <th>50%</th>\n",
       "      <td>3.000000</td>\n",
       "      <td>588.880000</td>\n",
       "      <td>299.93000</td>\n",
       "    </tr>\n",
       "    <tr>\n",
       "      <th>75%</th>\n",
       "      <td>4.000000</td>\n",
       "      <td>1011.660000</td>\n",
       "      <td>404.40000</td>\n",
       "    </tr>\n",
       "    <tr>\n",
       "      <th>max</th>\n",
       "      <td>4.000000</td>\n",
       "      <td>1991.040000</td>\n",
       "      <td>497.76000</td>\n",
       "    </tr>\n",
       "  </tbody>\n",
       "</table>\n",
       "</div>"
      ],
      "text/plain": [
       "          Quantity   TotalValue       Price\n",
       "count  1000.000000  1000.000000  1000.00000\n",
       "mean      2.537000   689.995560   272.55407\n",
       "std       1.117981   493.144478   140.73639\n",
       "min       1.000000    16.080000    16.08000\n",
       "25%       2.000000   295.295000   147.95000\n",
       "50%       3.000000   588.880000   299.93000\n",
       "75%       4.000000  1011.660000   404.40000\n",
       "max       4.000000  1991.040000   497.76000"
      ]
     },
     "execution_count": 20,
     "metadata": {},
     "output_type": "execute_result"
    }
   ],
   "source": [
    "data.describe() #describe() method returns description of the data in the dataframe(i.e count,mean,std,etc)"
   ]
  },
  {
   "cell_type": "code",
   "execution_count": 21,
   "id": "5993e412",
   "metadata": {},
   "outputs": [
    {
     "data": {
      "text/plain": [
       "(1000, 7)"
      ]
     },
     "execution_count": 21,
     "metadata": {},
     "output_type": "execute_result"
    }
   ],
   "source": [
    "data.shape # it have 1000 rows and 7 columns"
   ]
  },
  {
   "cell_type": "code",
   "execution_count": 22,
   "id": "4975ffda",
   "metadata": {},
   "outputs": [
    {
     "data": {
      "text/plain": [
       "Index(['TransactionID', 'CustomerID', 'ProductID', 'TransactionDate',\n",
       "       'Quantity', 'TotalValue', 'Price'],\n",
       "      dtype='object')"
      ]
     },
     "execution_count": 22,
     "metadata": {},
     "output_type": "execute_result"
    }
   ],
   "source": [
    "data.columns # It displays the columns name present in the dataset"
   ]
  },
  {
   "cell_type": "code",
   "execution_count": 23,
   "id": "d94a39d2",
   "metadata": {},
   "outputs": [
    {
     "data": {
      "text/plain": [
       "TransactionID      1000\n",
       "CustomerID          199\n",
       "ProductID           100\n",
       "TransactionDate    1000\n",
       "Quantity              4\n",
       "TotalValue          369\n",
       "Price               100\n",
       "dtype: int64"
      ]
     },
     "execution_count": 23,
     "metadata": {},
     "output_type": "execute_result"
    }
   ],
   "source": [
    "data.nunique() #It provides the unique values present in each column"
   ]
  },
  {
   "cell_type": "code",
   "execution_count": 26,
   "id": "233f9727",
   "metadata": {},
   "outputs": [
    {
     "data": {
      "text/plain": [
       "array(['South America', 'Asia', 'North America', 'Europe'], dtype=object)"
      ]
     },
     "execution_count": 26,
     "metadata": {},
     "output_type": "execute_result"
    }
   ],
   "source": [
    "value = pd.read_csv('Customers.csv')\n",
    "value\n",
    "value['Region'].unique()\n"
   ]
  },
  {
   "cell_type": "markdown",
   "id": "94c23f2a",
   "metadata": {},
   "source": [
    "Cleaning the Data"
   ]
  },
  {
   "cell_type": "code",
   "execution_count": 27,
   "id": "e31093d6",
   "metadata": {},
   "outputs": [
    {
     "data": {
      "text/plain": [
       "TransactionID      0\n",
       "CustomerID         0\n",
       "ProductID          0\n",
       "TransactionDate    0\n",
       "Quantity           0\n",
       "TotalValue         0\n",
       "Price              0\n",
       "dtype: int64"
      ]
     },
     "execution_count": 27,
     "metadata": {},
     "output_type": "execute_result"
    }
   ],
   "source": [
    "data.isnull().sum() #check for null values"
   ]
  },
  {
   "cell_type": "code",
   "execution_count": 16,
   "id": "d34e487e",
   "metadata": {},
   "outputs": [],
   "source": [
    "# data.dropna() can be used to drop null values if any null values present in a dataset\n",
    "# data.drop() can be used to remove unwanted columns\n",
    "# rename the columns data.rename(columns={'CustomerName':'Cust_name'})"
   ]
  },
  {
   "cell_type": "markdown",
   "id": "f7e0759b",
   "metadata": {},
   "source": [
    "By merging the datasets EDA can be performed more precisely"
   ]
  },
  {
   "cell_type": "code",
   "execution_count": null,
   "id": "d76f56b4",
   "metadata": {},
   "outputs": [],
   "source": [
    "#In order to merge the datasets we can use we can use pandas library"
   ]
  },
  {
   "cell_type": "code",
   "execution_count": 28,
   "id": "db2d94d3",
   "metadata": {},
   "outputs": [],
   "source": [
    "import pandas as pd\n",
    "\n",
    "# Load datasets\n",
    "transactions = pd.read_csv(\"Transactions.csv\")\n",
    "products = pd.read_csv(\"Products.csv\")\n",
    "customers = pd.read_csv(\"Customers.csv\")"
   ]
  },
  {
   "cell_type": "code",
   "execution_count": 29,
   "id": "cfcc7488",
   "metadata": {},
   "outputs": [],
   "source": [
    "# Merge Transactions with Products on 'ProductID'\n",
    "transactions_products = pd.merge(transactions, products, on='ProductID', how='left')\n",
    "\n",
    "# Merge the resulting dataframe with Customers on 'CustomerID'\n",
    "full_data = pd.merge(transactions_products, customers, on='CustomerID', how='left')"
   ]
  },
  {
   "cell_type": "code",
   "execution_count": 30,
   "id": "91a48edf",
   "metadata": {},
   "outputs": [
    {
     "name": "stdout",
     "output_type": "stream",
     "text": [
      "  TransactionID CustomerID ProductID      TransactionDate  Quantity  \\\n",
      "0        T00001      C0199      P067  2024-08-25 12:38:23         1   \n",
      "1        T00112      C0146      P067  2024-05-27 22:23:54         1   \n",
      "2        T00166      C0127      P067  2024-04-25 07:38:55         1   \n",
      "3        T00272      C0087      P067  2024-03-26 22:55:37         2   \n",
      "4        T00363      C0070      P067  2024-03-21 15:10:10         3   \n",
      "\n",
      "   TotalValue  Price_x                      ProductName     Category  Price_y  \\\n",
      "0      300.68   300.68  ComfortLiving Bluetooth Speaker  Electronics   300.68   \n",
      "1      300.68   300.68  ComfortLiving Bluetooth Speaker  Electronics   300.68   \n",
      "2      300.68   300.68  ComfortLiving Bluetooth Speaker  Electronics   300.68   \n",
      "3      601.36   300.68  ComfortLiving Bluetooth Speaker  Electronics   300.68   \n",
      "4      902.04   300.68  ComfortLiving Bluetooth Speaker  Electronics   300.68   \n",
      "\n",
      "      CustomerName         Region  SignupDate  \n",
      "0   Andrea Jenkins         Europe  2022-12-03  \n",
      "1  Brittany Harvey           Asia  2024-09-04  \n",
      "2  Kathryn Stevens         Europe  2024-04-04  \n",
      "3  Travis Campbell  South America  2024-04-11  \n",
      "4    Timothy Perez         Europe  2022-03-15  \n"
     ]
    }
   ],
   "source": [
    "# Display the first few rows\n",
    "print(full_data.head())"
   ]
  },
  {
   "cell_type": "code",
   "execution_count": 31,
   "id": "29f1235d",
   "metadata": {},
   "outputs": [
    {
     "name": "stdout",
     "output_type": "stream",
     "text": [
      "TransactionID      0\n",
      "CustomerID         0\n",
      "ProductID          0\n",
      "TransactionDate    0\n",
      "Quantity           0\n",
      "TotalValue         0\n",
      "Price_x            0\n",
      "ProductName        0\n",
      "Category           0\n",
      "Price_y            0\n",
      "CustomerName       0\n",
      "Region             0\n",
      "SignupDate         0\n",
      "dtype: int64\n"
     ]
    }
   ],
   "source": [
    "print(full_data.isnull().sum())"
   ]
  },
  {
   "cell_type": "code",
   "execution_count": 32,
   "id": "e74c3c01",
   "metadata": {},
   "outputs": [],
   "source": [
    "full_data.to_csv(\"Merged_Dataset.csv\", index=False)\n"
   ]
  },
  {
   "cell_type": "code",
   "execution_count": 33,
   "id": "a507d829",
   "metadata": {},
   "outputs": [
    {
     "data": {
      "text/html": [
       "<div>\n",
       "<style scoped>\n",
       "    .dataframe tbody tr th:only-of-type {\n",
       "        vertical-align: middle;\n",
       "    }\n",
       "\n",
       "    .dataframe tbody tr th {\n",
       "        vertical-align: top;\n",
       "    }\n",
       "\n",
       "    .dataframe thead th {\n",
       "        text-align: right;\n",
       "    }\n",
       "</style>\n",
       "<table border=\"1\" class=\"dataframe\">\n",
       "  <thead>\n",
       "    <tr style=\"text-align: right;\">\n",
       "      <th></th>\n",
       "      <th>TransactionID</th>\n",
       "      <th>CustomerID</th>\n",
       "      <th>ProductID</th>\n",
       "      <th>TransactionDate</th>\n",
       "      <th>Quantity</th>\n",
       "      <th>TotalValue</th>\n",
       "      <th>Price_x</th>\n",
       "      <th>ProductName</th>\n",
       "      <th>Category</th>\n",
       "      <th>Price_y</th>\n",
       "      <th>CustomerName</th>\n",
       "      <th>Region</th>\n",
       "      <th>SignupDate</th>\n",
       "    </tr>\n",
       "  </thead>\n",
       "  <tbody>\n",
       "    <tr>\n",
       "      <th>0</th>\n",
       "      <td>T00001</td>\n",
       "      <td>C0199</td>\n",
       "      <td>P067</td>\n",
       "      <td>2024-08-25 12:38:23</td>\n",
       "      <td>1</td>\n",
       "      <td>300.68</td>\n",
       "      <td>300.68</td>\n",
       "      <td>ComfortLiving Bluetooth Speaker</td>\n",
       "      <td>Electronics</td>\n",
       "      <td>300.68</td>\n",
       "      <td>Andrea Jenkins</td>\n",
       "      <td>Europe</td>\n",
       "      <td>2022-12-03</td>\n",
       "    </tr>\n",
       "    <tr>\n",
       "      <th>1</th>\n",
       "      <td>T00112</td>\n",
       "      <td>C0146</td>\n",
       "      <td>P067</td>\n",
       "      <td>2024-05-27 22:23:54</td>\n",
       "      <td>1</td>\n",
       "      <td>300.68</td>\n",
       "      <td>300.68</td>\n",
       "      <td>ComfortLiving Bluetooth Speaker</td>\n",
       "      <td>Electronics</td>\n",
       "      <td>300.68</td>\n",
       "      <td>Brittany Harvey</td>\n",
       "      <td>Asia</td>\n",
       "      <td>2024-09-04</td>\n",
       "    </tr>\n",
       "    <tr>\n",
       "      <th>2</th>\n",
       "      <td>T00166</td>\n",
       "      <td>C0127</td>\n",
       "      <td>P067</td>\n",
       "      <td>2024-04-25 07:38:55</td>\n",
       "      <td>1</td>\n",
       "      <td>300.68</td>\n",
       "      <td>300.68</td>\n",
       "      <td>ComfortLiving Bluetooth Speaker</td>\n",
       "      <td>Electronics</td>\n",
       "      <td>300.68</td>\n",
       "      <td>Kathryn Stevens</td>\n",
       "      <td>Europe</td>\n",
       "      <td>2024-04-04</td>\n",
       "    </tr>\n",
       "    <tr>\n",
       "      <th>3</th>\n",
       "      <td>T00272</td>\n",
       "      <td>C0087</td>\n",
       "      <td>P067</td>\n",
       "      <td>2024-03-26 22:55:37</td>\n",
       "      <td>2</td>\n",
       "      <td>601.36</td>\n",
       "      <td>300.68</td>\n",
       "      <td>ComfortLiving Bluetooth Speaker</td>\n",
       "      <td>Electronics</td>\n",
       "      <td>300.68</td>\n",
       "      <td>Travis Campbell</td>\n",
       "      <td>South America</td>\n",
       "      <td>2024-04-11</td>\n",
       "    </tr>\n",
       "    <tr>\n",
       "      <th>4</th>\n",
       "      <td>T00363</td>\n",
       "      <td>C0070</td>\n",
       "      <td>P067</td>\n",
       "      <td>2024-03-21 15:10:10</td>\n",
       "      <td>3</td>\n",
       "      <td>902.04</td>\n",
       "      <td>300.68</td>\n",
       "      <td>ComfortLiving Bluetooth Speaker</td>\n",
       "      <td>Electronics</td>\n",
       "      <td>300.68</td>\n",
       "      <td>Timothy Perez</td>\n",
       "      <td>Europe</td>\n",
       "      <td>2022-03-15</td>\n",
       "    </tr>\n",
       "    <tr>\n",
       "      <th>...</th>\n",
       "      <td>...</td>\n",
       "      <td>...</td>\n",
       "      <td>...</td>\n",
       "      <td>...</td>\n",
       "      <td>...</td>\n",
       "      <td>...</td>\n",
       "      <td>...</td>\n",
       "      <td>...</td>\n",
       "      <td>...</td>\n",
       "      <td>...</td>\n",
       "      <td>...</td>\n",
       "      <td>...</td>\n",
       "      <td>...</td>\n",
       "    </tr>\n",
       "    <tr>\n",
       "      <th>995</th>\n",
       "      <td>T00496</td>\n",
       "      <td>C0118</td>\n",
       "      <td>P037</td>\n",
       "      <td>2024-10-24 08:30:27</td>\n",
       "      <td>1</td>\n",
       "      <td>459.86</td>\n",
       "      <td>459.86</td>\n",
       "      <td>SoundWave Smartwatch</td>\n",
       "      <td>Electronics</td>\n",
       "      <td>459.86</td>\n",
       "      <td>Jacob Holt</td>\n",
       "      <td>South America</td>\n",
       "      <td>2022-01-22</td>\n",
       "    </tr>\n",
       "    <tr>\n",
       "      <th>996</th>\n",
       "      <td>T00759</td>\n",
       "      <td>C0059</td>\n",
       "      <td>P037</td>\n",
       "      <td>2024-06-04 02:15:24</td>\n",
       "      <td>3</td>\n",
       "      <td>1379.58</td>\n",
       "      <td>459.86</td>\n",
       "      <td>SoundWave Smartwatch</td>\n",
       "      <td>Electronics</td>\n",
       "      <td>459.86</td>\n",
       "      <td>Mrs. Kimberly Wright</td>\n",
       "      <td>North America</td>\n",
       "      <td>2024-04-07</td>\n",
       "    </tr>\n",
       "    <tr>\n",
       "      <th>997</th>\n",
       "      <td>T00922</td>\n",
       "      <td>C0018</td>\n",
       "      <td>P037</td>\n",
       "      <td>2024-04-05 13:05:32</td>\n",
       "      <td>4</td>\n",
       "      <td>1839.44</td>\n",
       "      <td>459.86</td>\n",
       "      <td>SoundWave Smartwatch</td>\n",
       "      <td>Electronics</td>\n",
       "      <td>459.86</td>\n",
       "      <td>Tyler Haynes</td>\n",
       "      <td>North America</td>\n",
       "      <td>2024-09-21</td>\n",
       "    </tr>\n",
       "    <tr>\n",
       "      <th>998</th>\n",
       "      <td>T00959</td>\n",
       "      <td>C0115</td>\n",
       "      <td>P037</td>\n",
       "      <td>2024-09-29 10:16:02</td>\n",
       "      <td>2</td>\n",
       "      <td>919.72</td>\n",
       "      <td>459.86</td>\n",
       "      <td>SoundWave Smartwatch</td>\n",
       "      <td>Electronics</td>\n",
       "      <td>459.86</td>\n",
       "      <td>Joshua Hamilton</td>\n",
       "      <td>Asia</td>\n",
       "      <td>2024-11-11</td>\n",
       "    </tr>\n",
       "    <tr>\n",
       "      <th>999</th>\n",
       "      <td>T00992</td>\n",
       "      <td>C0024</td>\n",
       "      <td>P037</td>\n",
       "      <td>2024-04-21 10:52:24</td>\n",
       "      <td>1</td>\n",
       "      <td>459.86</td>\n",
       "      <td>459.86</td>\n",
       "      <td>SoundWave Smartwatch</td>\n",
       "      <td>Electronics</td>\n",
       "      <td>459.86</td>\n",
       "      <td>Michele Cooley</td>\n",
       "      <td>North America</td>\n",
       "      <td>2024-02-05</td>\n",
       "    </tr>\n",
       "  </tbody>\n",
       "</table>\n",
       "<p>1000 rows × 13 columns</p>\n",
       "</div>"
      ],
      "text/plain": [
       "    TransactionID CustomerID ProductID      TransactionDate  Quantity  \\\n",
       "0          T00001      C0199      P067  2024-08-25 12:38:23         1   \n",
       "1          T00112      C0146      P067  2024-05-27 22:23:54         1   \n",
       "2          T00166      C0127      P067  2024-04-25 07:38:55         1   \n",
       "3          T00272      C0087      P067  2024-03-26 22:55:37         2   \n",
       "4          T00363      C0070      P067  2024-03-21 15:10:10         3   \n",
       "..            ...        ...       ...                  ...       ...   \n",
       "995        T00496      C0118      P037  2024-10-24 08:30:27         1   \n",
       "996        T00759      C0059      P037  2024-06-04 02:15:24         3   \n",
       "997        T00922      C0018      P037  2024-04-05 13:05:32         4   \n",
       "998        T00959      C0115      P037  2024-09-29 10:16:02         2   \n",
       "999        T00992      C0024      P037  2024-04-21 10:52:24         1   \n",
       "\n",
       "     TotalValue  Price_x                      ProductName     Category  \\\n",
       "0        300.68   300.68  ComfortLiving Bluetooth Speaker  Electronics   \n",
       "1        300.68   300.68  ComfortLiving Bluetooth Speaker  Electronics   \n",
       "2        300.68   300.68  ComfortLiving Bluetooth Speaker  Electronics   \n",
       "3        601.36   300.68  ComfortLiving Bluetooth Speaker  Electronics   \n",
       "4        902.04   300.68  ComfortLiving Bluetooth Speaker  Electronics   \n",
       "..          ...      ...                              ...          ...   \n",
       "995      459.86   459.86             SoundWave Smartwatch  Electronics   \n",
       "996     1379.58   459.86             SoundWave Smartwatch  Electronics   \n",
       "997     1839.44   459.86             SoundWave Smartwatch  Electronics   \n",
       "998      919.72   459.86             SoundWave Smartwatch  Electronics   \n",
       "999      459.86   459.86             SoundWave Smartwatch  Electronics   \n",
       "\n",
       "     Price_y          CustomerName         Region  SignupDate  \n",
       "0     300.68        Andrea Jenkins         Europe  2022-12-03  \n",
       "1     300.68       Brittany Harvey           Asia  2024-09-04  \n",
       "2     300.68       Kathryn Stevens         Europe  2024-04-04  \n",
       "3     300.68       Travis Campbell  South America  2024-04-11  \n",
       "4     300.68         Timothy Perez         Europe  2022-03-15  \n",
       "..       ...                   ...            ...         ...  \n",
       "995   459.86            Jacob Holt  South America  2022-01-22  \n",
       "996   459.86  Mrs. Kimberly Wright  North America  2024-04-07  \n",
       "997   459.86          Tyler Haynes  North America  2024-09-21  \n",
       "998   459.86       Joshua Hamilton           Asia  2024-11-11  \n",
       "999   459.86        Michele Cooley  North America  2024-02-05  \n",
       "\n",
       "[1000 rows x 13 columns]"
      ]
     },
     "execution_count": 33,
     "metadata": {},
     "output_type": "execute_result"
    }
   ],
   "source": [
    "df=pd.read_csv('Merged_Dataset.csv')\n",
    "df"
   ]
  },
  {
   "cell_type": "markdown",
   "id": "9929b1ac",
   "metadata": {},
   "source": [
    "1. Top Revenue-Generating Regions"
   ]
  },
  {
   "cell_type": "code",
   "execution_count": 38,
   "id": "7d44ff5e",
   "metadata": {},
   "outputs": [
    {
     "name": "stdout",
     "output_type": "stream",
     "text": [
      "Region\n",
      "South America    219352.56\n",
      "Europe           166254.63\n",
      "North America    152313.40\n",
      "Asia             152074.97\n",
      "Name: TotalValue, dtype: float64\n"
     ]
    }
   ],
   "source": [
    "#regions contributing the most to overall revenue.\n",
    "region_revenue = full_data.groupby('Region')['TotalValue'].sum().sort_values(ascending=False)\n",
    "print(region_revenue)"
   ]
  },
  {
   "cell_type": "code",
   "execution_count": 41,
   "id": "12b942b9",
   "metadata": {},
   "outputs": [
    {
     "data": {
      "image/png": "[encoded data removed]",
      "text/plain": [
       "<Figure size 600x300 with 1 Axes>"
      ]
     },
     "metadata": {},
     "output_type": "display_data"
    }
   ],
   "source": [
    "#1. Total Revenue by Region\n",
    "#Purpose: Identify which regions generate the most revenue.\n",
    "import matplotlib.pyplot as plt\n",
    "\n",
    "region_revenue = full_data.groupby('Region')['TotalValue'].sum().sort_values(ascending=False)\n",
    "\n",
    "plt.figure(figsize=(6, 3))\n",
    "region_revenue.plot(kind='bar', color='skyblue')\n",
    "plt.title(\"Total Revenue by Region\")\n",
    "plt.xlabel(\"Region\")\n",
    "plt.ylabel(\"Revenue ($)\")\n",
    "plt.xticks(rotation=45)\n",
    "plt.tight_layout()\n",
    "plt.show()"
   ]
  },
  {
   "cell_type": "markdown",
   "id": "214e6ac5",
   "metadata": {},
   "source": [
    "Conclusion:\n",
    "If South America is the top revenue-generating region, prioritize marketing efforts and promotions there to sustain high performance.\n"
   ]
  },
  {
   "cell_type": "markdown",
   "id": "1cb7cc13",
   "metadata": {},
   "source": [
    "2.Best-Selling Products.\n",
    "Products are generating the most revenue."
   ]
  },
  {
   "cell_type": "code",
   "execution_count": 43,
   "id": "8e3e5f9c",
   "metadata": {},
   "outputs": [
    {
     "name": "stdout",
     "output_type": "stream",
     "text": [
      "ProductName\n",
      "ActiveWear Smartwatch    39096.97\n",
      "SoundWave Headphones     25211.64\n",
      "SoundWave Novel          24507.90\n",
      "ActiveWear Jacket        22712.56\n",
      "ActiveWear Rug           22314.43\n",
      "Name: TotalValue, dtype: float64\n"
     ]
    }
   ],
   "source": [
    "product_revenue = full_data.groupby('ProductName')['TotalValue'].sum().sort_values(ascending=False).head(5)\n",
    "print(product_revenue)"
   ]
  },
  {
   "cell_type": "code",
   "execution_count": 47,
   "id": "14722b7b",
   "metadata": {},
   "outputs": [
    {
     "data": {
      "image/png": "[encoded data removed]",
      "text/plain": [
       "<Figure size 800x500 with 1 Axes>"
      ]
     },
     "metadata": {},
     "output_type": "display_data"
    }
   ],
   "source": [
    "top_products = full_data.groupby('ProductName')['TotalValue'].sum().sort_values(ascending=False).head(5)\n",
    "\n",
    "plt.figure(figsize=(8, 5))\n",
    "top_products.plot(kind='bar', color='coral')\n",
    "plt.title(\"Top 5 Best-Selling Products\")\n",
    "plt.xlabel(\"Product Name\")\n",
    "plt.ylabel(\"Revenue ($)\")\n",
    "plt.xticks(rotation=45, ha='right')\n",
    "plt.tight_layout()\n",
    "plt.show()"
   ]
  },
  {
   "cell_type": "markdown",
   "id": "7f207ea6",
   "metadata": {},
   "source": [
    "Conclusion:\n",
    "If ActiveWear Smartwatch is the top-selling product, ensure sufficient inventory and consider upselling with related products."
   ]
  },
  {
   "cell_type": "markdown",
   "id": "2a68ac82",
   "metadata": {},
   "source": [
    "2.Revenue Contribution by Product Category.\n",
    "Revenue breakdown by product category."
   ]
  },
  {
   "cell_type": "code",
   "execution_count": 46,
   "id": "cff4ebd8",
   "metadata": {},
   "outputs": [
    {
     "data": {
      "image/png": "[encoded data removed]",
      "text/plain": [
       "<Figure size 600x300 with 1 Axes>"
      ]
     },
     "metadata": {},
     "output_type": "display_data"
    }
   ],
   "source": [
    "category_revenue = full_data.groupby('Category')['TotalValue'].sum().sort_values(ascending=False).head(5)\n",
    "\n",
    "plt.figure(figsize=(6, 3))\n",
    "category_revenue.plot(kind='bar', color='lightgreen')\n",
    "plt.title(\"Revenue by Product Category\")\n",
    "plt.xlabel(\"Category\")\n",
    "plt.ylabel(\"Revenue ($)\")\n",
    "plt.xticks(rotation=45)\n",
    "plt.tight_layout()\n",
    "plt.show()"
   ]
  },
  {
   "cell_type": "markdown",
   "id": "148123f7",
   "metadata": {},
   "source": [
    "Conclusion:\n",
    "If Books and Electronics dominate revenue, consider expanding these categories or introducing new products."
   ]
  },
  {
   "cell_type": "markdown",
   "id": "fbb1e7d7",
   "metadata": {},
   "source": [
    "Customer Segmentation by Region\n",
    ".Customer distribution and behavior across regions.\n"
   ]
  },
  {
   "cell_type": "code",
   "execution_count": 48,
   "id": "2bf23ec6",
   "metadata": {},
   "outputs": [
    {
     "name": "stdout",
     "output_type": "stream",
     "text": [
      "South America    304\n",
      "North America    244\n",
      "Europe           234\n",
      "Asia             218\n",
      "Name: Region, dtype: int64\n"
     ]
    }
   ],
   "source": [
    "customer_distribution = full_data['Region'].value_counts()\n",
    "print(customer_distribution)"
   ]
  },
  {
   "cell_type": "markdown",
   "id": "ff2f375f",
   "metadata": {},
   "source": [
    "Conclusion:\n",
    "If Europe has the highest number of customers but moderate revenue, focus on cross-selling or upselling strategies to boost revenue per customer.\n"
   ]
  },
  {
   "cell_type": "markdown",
   "id": "e003bd82",
   "metadata": {},
   "source": [
    "Customer Lifetime Value (CLV) Analysis.\n",
    "The total revenue generated by individual customers.\n"
   ]
  },
  {
   "cell_type": "code",
   "execution_count": 49,
   "id": "e23539f2",
   "metadata": {},
   "outputs": [
    {
     "name": "stdout",
     "output_type": "stream",
     "text": [
      "CustomerID\n",
      "C0141    10673.87\n",
      "C0054     8040.39\n",
      "C0065     7663.70\n",
      "C0156     7634.45\n",
      "C0082     7572.91\n",
      "Name: TotalValue, dtype: float64\n"
     ]
    }
   ],
   "source": [
    "customer_revenue = full_data.groupby('CustomerID')['TotalValue'].sum().sort_values(ascending=False)\n",
    "print(customer_revenue.head())"
   ]
  },
  {
   "cell_type": "markdown",
   "id": "73e68fd9",
   "metadata": {},
   "source": [
    "Conclusion:\n",
    "Reward high-value customers with loyalty programs or exclusive discounts to retain them."
   ]
  },
  {
   "cell_type": "markdown",
   "id": "63a6a7d7",
   "metadata": {},
   "source": [
    "Sales Trends Over Time\n",
    ".Analyze revenue trends over time (e.g., by month or quarter).\n"
   ]
  },
  {
   "cell_type": "code",
   "execution_count": 51,
   "id": "c72b43b8",
   "metadata": {},
   "outputs": [
    {
     "name": "stdout",
     "output_type": "stream",
     "text": [
      "TransactionDate\n",
      "2023-12-31     3769.52\n",
      "2024-01-31    66376.39\n",
      "2024-02-29    51459.27\n",
      "2024-03-31    47828.73\n",
      "2024-04-30    57519.06\n",
      "2024-05-31    64527.74\n",
      "2024-06-30    48771.18\n",
      "2024-07-31    71366.39\n",
      "2024-08-31    63436.74\n",
      "2024-09-30    70603.75\n",
      "2024-10-31    47063.22\n",
      "2024-11-30    38224.37\n",
      "2024-12-31    59049.20\n",
      "Freq: M, Name: TotalValue, dtype: float64\n"
     ]
    }
   ],
   "source": [
    "full_data['TransactionDate'] = pd.to_datetime(full_data['TransactionDate'])\n",
    "monthly_sales = full_data.resample('M', on='TransactionDate')['TotalValue'].sum()\n",
    "print(monthly_sales)"
   ]
  },
  {
   "cell_type": "markdown",
   "id": "2a8f6478",
   "metadata": {},
   "source": [
    "Conclusion:\n",
    "If sales peak in December, prepare for the holiday season with discounts, promotions, and adequate stock."
   ]
  },
  {
   "cell_type": "markdown",
   "id": "62e6a347",
   "metadata": {},
   "source": [
    "Popular Products in Each Region\n",
    ".The top-selling products for each region."
   ]
  },
  {
   "cell_type": "code",
   "execution_count": 53,
   "id": "0dd701e2",
   "metadata": {},
   "outputs": [
    {
     "name": "stdout",
     "output_type": "stream",
     "text": [
      "Region         ProductName          \n",
      "South America  ActiveWear Smartwatch    14226.61\n",
      "               ActiveWear Textbook      11296.11\n",
      "North America  ActiveWear Smartwatch    10080.99\n",
      "South America  TechPro Headphones        9540.08\n",
      "North America  SoundWave Headphones      9479.35\n",
      "Europe         BookWorld Cookbook        8360.56\n",
      "               ActiveWear Smartwatch     7861.70\n",
      "               ActiveWear Rug            7488.25\n",
      "Asia           BookWorld Sweater         7266.20\n",
      "               ActiveWear Smartwatch     6927.67\n",
      "               ActiveWear Jacket         6614.26\n",
      "North America  ComfortLiving Sweater     6551.29\n",
      "Name: TotalValue, dtype: float64\n"
     ]
    }
   ],
   "source": [
    "region_product_sales = full_data.groupby(['Region', 'ProductName'])['TotalValue'].sum().sort_values(ascending=False).groupby(level=0).head(3)\n",
    "print(region_product_sales)"
   ]
  },
  {
   "cell_type": "markdown",
   "id": "71c38b83",
   "metadata": {},
   "source": [
    "Conclusion:\n",
    "Customize regional marketing campaigns to feature the most popular products in each region."
   ]
  },
  {
   "cell_type": "markdown",
   "id": "d89c7832",
   "metadata": {},
   "source": [
    "New Customer Acquisition Trends\n",
    ".Track when customers are signing up and their initial purchase behavior.\n"
   ]
  },
  {
   "cell_type": "code",
   "execution_count": 59,
   "id": "9afd3062",
   "metadata": {},
   "outputs": [
    {
     "name": "stdout",
     "output_type": "stream",
     "text": [
      "2022-04-16    19\n",
      "2022-03-14    16\n",
      "2024-09-17    15\n",
      "2022-05-13    14\n",
      "2024-11-11    14\n",
      "              ..\n",
      "2024-08-04     1\n",
      "2024-06-11     1\n",
      "2023-04-19     1\n",
      "2024-01-28     1\n",
      "2023-12-18     1\n",
      "Name: SignupDate, Length: 178, dtype: int64\n"
     ]
    }
   ],
   "source": [
    "signup_trends = full_data['SignupDate'].value_counts()\n",
    "print(signup_trends)"
   ]
  },
  {
   "cell_type": "code",
   "execution_count": 65,
   "id": "ea21c976",
   "metadata": {},
   "outputs": [
    {
     "data": {
      "image/png": "[encoded data removed]",
      "text/plain": [
       "<Figure size 600x300 with 1 Axes>"
      ]
     },
     "metadata": {},
     "output_type": "display_data"
    }
   ],
   "source": [
    "full_data['SignupDate'] = pd.to_datetime(full_data['SignupDate'])\n",
    "signup_trends = full_data['SignupDate'].dt.year.value_counts().sort_index()\n",
    "\n",
    "plt.figure(figsize=(6, 3))\n",
    "signup_trends.plot(kind='bar', color='teal')\n",
    "plt.title(\"Customer Sign-Up Trends\")\n",
    "plt.xlabel(\"Year\")\n",
    "plt.ylabel(\"Number of Sign-Ups\")\n",
    "plt.tight_layout()\n",
    "plt.show()"
   ]
  },
  {
   "cell_type": "markdown",
   "id": "0d742d84",
   "metadata": {},
   "source": [
    "Conclusion:\n",
    "If signups increased significantly in a particular year, investigate what marketing campaigns or changes drove this growth and replicate them.\n",
    "If customer sign-ups have declined recently, evaluate marketing effectiveness and customer acquisition strategies.\n"
   ]
  },
  {
   "cell_type": "markdown",
   "id": "dc039d27",
   "metadata": {},
   "source": [
    "Price Sensitivity\n",
    ".Analyze whether products with lower prices sell more."
   ]
  },
  {
   "cell_type": "code",
   "execution_count": 63,
   "id": "f19bc0ae",
   "metadata": {},
   "outputs": [
    {
     "name": "stdout",
     "output_type": "stream",
     "text": [
      "                            Price_x   TotalValue\n",
      "ProductName                                     \n",
      "ActiveWear Biography     169.300000   380.925000\n",
      "ActiveWear Cookbook      277.860000   679.213333\n",
      "ActiveWear Cookware Set  357.438571   861.130000\n",
      "ActiveWear Headphones    387.968571   997.024286\n",
      "ActiveWear Jacket        303.696923   873.560000\n",
      "...                             ...          ...\n",
      "TechPro Running Shoes    290.170000   677.063333\n",
      "TechPro Smartwatch       430.590000  1148.240000\n",
      "TechPro T-Shirt          206.973333   594.339167\n",
      "TechPro Textbook         287.874000   730.718400\n",
      "TechPro Vase             207.303810   443.149524\n",
      "\n",
      "[66 rows x 2 columns]\n"
     ]
    }
   ],
   "source": [
    "price_analysis = full_data.groupby('ProductName')[['Price_x', 'TotalValue']].mean()\n",
    "print(price_analysis)"
   ]
  },
  {
   "cell_type": "markdown",
   "id": "b11d4cfc",
   "metadata": {},
   "source": [
    "Conclusion:\n",
    "If lower-priced products sell significantly more, consider strategic pricing to balance volume and profit margins."
   ]
  },
  {
   "cell_type": "markdown",
   "id": "ece563ec",
   "metadata": {},
   "source": [
    "Monthly Sales Trend. Observe sales trends over time to identify seasonality or growth patterns."
   ]
  },
  {
   "cell_type": "code",
   "execution_count": 67,
   "id": "37333eb2",
   "metadata": {},
   "outputs": [
    {
     "data": {
      "image/png": "[encoded data removed]",
      "text/plain": [
       "<Figure size 1000x600 with 1 Axes>"
      ]
     },
     "metadata": {},
     "output_type": "display_data"
    }
   ],
   "source": [
    "full_data['TransactionDate'] = pd.to_datetime(full_data['TransactionDate'])\n",
    "monthly_sales = full_data.resample('M', on='TransactionDate')['TotalValue'].sum()\n",
    "\n",
    "plt.figure(figsize=(10, 6))\n",
    "monthly_sales.plot(kind='line', marker='o', color='purple')\n",
    "plt.title(\"Monthly Sales Trend\")\n",
    "plt.xlabel(\"Month\")\n",
    "plt.ylabel(\"Revenue ($)\")\n",
    "plt.grid(True, linestyle='--', alpha=0.7)\n",
    "plt.tight_layout()\n",
    "plt.show()"
   ]
  },
  {
   "cell_type": "markdown",
   "id": "e350a6f4",
   "metadata": {},
   "source": [
    "Conclusion:\n",
    "If sales peak during specific months (e.g., December), align marketing campaigns and stock replenishment with these trends."
   ]
  },
  {
   "cell_type": "markdown",
   "id": "4d1f7f6d",
   "metadata": {},
   "source": [
    " Customer Revenue Distribution\n",
    ".Analyze the distribution of revenue contributions from customers."
   ]
  },
  {
   "cell_type": "code",
   "execution_count": 68,
   "id": "efb151c2",
   "metadata": {},
   "outputs": [
    {
     "data": {
      "image/png": "[encoded data removed]",
      "text/plain": [
       "<Figure size 800x500 with 1 Axes>"
      ]
     },
     "metadata": {},
     "output_type": "display_data"
    }
   ],
   "source": [
    "customer_revenue = full_data.groupby('CustomerID')['TotalValue'].sum()\n",
    "\n",
    "plt.figure(figsize=(8, 5))\n",
    "plt.hist(customer_revenue, bins=20, color='orange', edgecolor='black')\n",
    "plt.title(\"Distribution of Customer Revenue\")\n",
    "plt.xlabel(\"Revenue ($)\")\n",
    "plt.ylabel(\"Number of Customers\")\n",
    "plt.tight_layout()\n",
    "plt.show()"
   ]
  },
  {
   "cell_type": "markdown",
   "id": "b15b9765",
   "metadata": {},
   "source": [
    "Conclusion:\n",
    "If most customers contribute relatively small amounts, consider loyalty programs to encourage repeat purchases or higher spending."
   ]
  },
  {
   "cell_type": "markdown",
   "id": "4b28c3e9",
   "metadata": {},
   "source": [
    "Revenue by Product Price.Explore whether higher-priced products generate more revenue.\n"
   ]
  },
  {
   "cell_type": "code",
   "execution_count": 71,
   "id": "c29a3d65",
   "metadata": {},
   "outputs": [
    {
     "data": {
      "image/png": "[encoded data removed]",
      "text/plain": [
       "<Figure size 800x500 with 1 Axes>"
      ]
     },
     "metadata": {},
     "output_type": "display_data"
    }
   ],
   "source": [
    "product_price_revenue = full_data.groupby('Price_x')['TotalValue'].sum()\n",
    "\n",
    "plt.figure(figsize=(8, 5))\n",
    "product_price_revenue.plot(kind='line', x='Price', y='TotalValue', color='green', alpha=0.6)\n",
    "plt.title(\"Revenue by Product Price\")\n",
    "plt.xlabel(\"Product Price ($)\")\n",
    "plt.ylabel(\"Revenue ($)\")\n",
    "plt.tight_layout()\n",
    "plt.show()"
   ]
  },
  {
   "cell_type": "markdown",
   "id": "a277a563",
   "metadata": {},
   "source": [
    "Conclusion:\n",
    "If customer sign-ups have declined recently, evaluate marketing effectiveness and customer acquisition strategies."
   ]
  },
  {
   "cell_type": "code",
   "execution_count": null,
   "id": "ba8293b9",
   "metadata": {},
   "outputs": [],
   "source": []
  }
 ],
 "metadata": {
  "kernelspec": {
   "display_name": "Python 3 (ipykernel)",
   "language": "python",
   "name": "python3"
  },
  "language_info": {
   "codemirror_mode": {
    "name": "ipython",
    "version": 3
   },
   "file_extension": ".py",
   "mimetype": "text/x-python",
   "name": "python",
   "nbconvert_exporter": "python",
   "pygments_lexer": "ipython3",
   "version": "3.9.13"
  }
 },
 "nbformat": 4,
 "nbformat_minor": 5
}
